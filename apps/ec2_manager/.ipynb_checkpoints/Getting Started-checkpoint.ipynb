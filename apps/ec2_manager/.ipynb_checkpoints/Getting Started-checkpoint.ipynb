{
 "cells": [
  {
   "cell_type": "code",
   "execution_count": 1,
   "id": "de188e3b-c9dc-4bd9-837a-0a16fe32a7f9",
   "metadata": {},
   "outputs": [],
   "source": [
    "import boto3"
   ]
  },
  {
   "cell_type": "code",
   "execution_count": 3,
   "id": "68402f6c-de96-42de-aa2f-577bbd345b8a",
   "metadata": {},
   "outputs": [],
   "source": [
    "s3 = boto3.client('s3') "
   ]
  },
  {
   "cell_type": "code",
   "execution_count": 5,
   "id": "ec1b374b-1060-4091-8019-109bcb022b3a",
   "metadata": {},
   "outputs": [],
   "source": [
    "json = s3.list_buckets()"
   ]
  },
  {
   "cell_type": "code",
   "execution_count": 7,
   "id": "a274d1e8-b0d3-4873-a0b0-8aae4eac9b75",
   "metadata": {},
   "outputs": [
    {
     "data": {
      "text/plain": [
       "dict_keys(['ResponseMetadata', 'Buckets', 'Owner'])"
      ]
     },
     "execution_count": 7,
     "metadata": {},
     "output_type": "execute_result"
    }
   ],
   "source": [
    "json.keys()"
   ]
  },
  {
   "cell_type": "code",
   "execution_count": 11,
   "id": "9b8dc723-368f-42f8-853d-85cebe184412",
   "metadata": {},
   "outputs": [
    {
     "data": {
      "text/plain": [
       "[{'Name': 'amazons3deepdive-bucket-jay',\n",
       "  'CreationDate': datetime.datetime(2024, 1, 16, 14, 34, 51, tzinfo=tzutc())},\n",
       " {'Name': 'jays2ndawsbucket',\n",
       "  'CreationDate': datetime.datetime(2023, 4, 27, 8, 18, 31, tzinfo=tzutc())},\n",
       " {'Name': 'jaysfirstawsbucket',\n",
       "  'CreationDate': datetime.datetime(2023, 4, 22, 16, 18, 41, tzinfo=tzutc())}]"
      ]
     },
     "execution_count": 11,
     "metadata": {},
     "output_type": "execute_result"
    }
   ],
   "source": [
    "json['Buckets']"
   ]
  }
 ],
 "metadata": {
  "kernelspec": {
   "display_name": "Python 3 (ipykernel)",
   "language": "python",
   "name": "python3"
  },
  "language_info": {
   "codemirror_mode": {
    "name": "ipython",
    "version": 3
   },
   "file_extension": ".py",
   "mimetype": "text/x-python",
   "name": "python",
   "nbconvert_exporter": "python",
   "pygments_lexer": "ipython3",
   "version": "3.8.10"
  }
 },
 "nbformat": 4,
 "nbformat_minor": 5
}
